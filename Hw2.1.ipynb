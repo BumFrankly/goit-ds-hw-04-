{
 "cells": [
  {
   "cell_type": "code",
   "execution_count": 51,
   "metadata": {},
   "outputs": [],
   "source": [
    "import pandas as pd\n",
    "import numpy as np\n",
    "import matplotlib.pyplot as plt"
   ]
  },
  {
   "cell_type": "code",
   "execution_count": 52,
   "metadata": {},
   "outputs": [],
   "source": [
    "url = \"https://uk.wikipedia.org/wiki/%D0%9D%D0%B0%D1%81%D0%B5%D0%BB%D0%B5%D0%BD%D0%BD%D1%8F_%D0%A3%D0%BA%D1%80%D0%B0%D1%97%D0%BD%D0%B8\"\n",
    "tables = pd.read_html(url, match='Регіон')\n",
    "df = tables[0]"
   ]
  },
  {
   "cell_type": "code",
   "execution_count": 53,
   "metadata": {},
   "outputs": [
    {
     "name": "stdout",
     "output_type": "stream",
     "text": [
      "             Регіон   1950   1960   1970  1990  2000  2012 2014 2019\n",
      "0              Крим  230.0  206.0  160.0   130    73   126    —    —\n",
      "1         Вінницька  224.0  192.0  142.0   124    84   112  109   76\n",
      "2         Волинська  247.0  250.0  179.0   153   112   148  141  101\n",
      "3  Дніпропетровська  204.0  204.0  151.0   123    71   112  111   71\n",
      "4          Донецька  271.0  214.0  140.0   109    61    98   82    —\n"
     ]
    }
   ],
   "source": [
    "# Вивести перші рядки таблиці за допомогою методу head\n",
    "print(df.head())"
   ]
  },
  {
   "cell_type": "code",
   "execution_count": 54,
   "metadata": {},
   "outputs": [
    {
     "name": "stdout",
     "output_type": "stream",
     "text": [
      "(28, 9)\n"
     ]
    }
   ],
   "source": [
    "# Визначення кількості рядків та стовпців\n",
    "print(df.shape)"
   ]
  },
  {
   "cell_type": "code",
   "execution_count": 55,
   "metadata": {},
   "outputs": [],
   "source": [
    "# Заміна значень \"—\" на NaN\n",
    "df.replace('—', np.nan, inplace=True)"
   ]
  },
  {
   "cell_type": "code",
   "execution_count": 56,
   "metadata": {},
   "outputs": [
    {
     "name": "stdout",
     "output_type": "stream",
     "text": [
      "Регіон     object\n",
      "1950      float64\n",
      "1960      float64\n",
      "1970      float64\n",
      "1990        int64\n",
      "2000        int64\n",
      "2012        int64\n",
      "2014       object\n",
      "2019       object\n",
      "dtype: object\n"
     ]
    }
   ],
   "source": [
    "# Визначення типів стовпців\n",
    "print(df.dtypes)"
   ]
  },
  {
   "cell_type": "code",
   "execution_count": 57,
   "metadata": {},
   "outputs": [],
   "source": [
    "# Заміна типів нечислових стовпців на числові\n",
    "for column in df.columns[1:]:\n",
    "    df[column] = pd.to_numeric(df[column], errors='coerce')"
   ]
  },
  {
   "cell_type": "code",
   "execution_count": 58,
   "metadata": {},
   "outputs": [
    {
     "name": "stdout",
     "output_type": "stream",
     "text": [
      "Регіон    0.000000\n",
      "1950      0.071429\n",
      "1960      0.035714\n",
      "1970      0.035714\n",
      "1990      0.000000\n",
      "2000      0.000000\n",
      "2012      0.000000\n",
      "2014      0.071429\n",
      "2019      0.142857\n",
      "dtype: float64\n"
     ]
    }
   ],
   "source": [
    "# Розрахунок частки пропусків в кожному стовпці\n",
    "print(df.isnull().sum() / len(df))"
   ]
  },
  {
   "cell_type": "code",
   "execution_count": 59,
   "metadata": {},
   "outputs": [],
   "source": [
    "# Видалення даних по всій країні (останній рядок)\n",
    "df = df.iloc[:-1]"
   ]
  },
  {
   "cell_type": "code",
   "execution_count": 60,
   "metadata": {},
   "outputs": [],
   "source": [
    "# Заміна відсутніх даних середніми значеннями стовпців\n",
    "numeric_columns = df.select_dtypes(include=[np.number]).columns\n",
    "df.loc[:, numeric_columns] = df[numeric_columns].fillna(df[numeric_columns].mean())"
   ]
  },
  {
   "cell_type": "code",
   "execution_count": 61,
   "metadata": {},
   "outputs": [],
   "source": [
    "# Обчислення середнього рівня народжуваності по Україні у 2019 році\n",
    "mean_birth_rate_2019 = df['2019'].mean()"
   ]
  },
  {
   "cell_type": "code",
   "execution_count": 62,
   "metadata": {},
   "outputs": [
    {
     "name": "stdout",
     "output_type": "stream",
     "text": [
      "2             Волинська\n",
      "6          Закарпатська\n",
      "8     Івано-Франківська\n",
      "12            Львівська\n",
      "14              Одеська\n",
      "16           Рівненська\n",
      "20           Херсонська\n",
      "23          Чернівецька\n",
      "25                 Київ\n",
      "Name: Регіон, dtype: object\n"
     ]
    }
   ],
   "source": [
    "# Отримання списку регіонів, де рівень народжуваності був вищим за середній у 2019 році\n",
    "regions_above_average_2019 = df[df['2019'] > mean_birth_rate_2019]['Регіон']\n",
    "print(regions_above_average_2019)"
   ]
  },
  {
   "cell_type": "code",
   "execution_count": 63,
   "metadata": {},
   "outputs": [
    {
     "name": "stdout",
     "output_type": "stream",
     "text": [
      "16\n"
     ]
    }
   ],
   "source": [
    "# Регіон з найвищою народжуваністю у 2014 році\n",
    "highest_birth_rate_region = df['2014'].idxmax()\n",
    "print(highest_birth_rate_region)\n"
   ]
  },
  {
   "cell_type": "code",
   "execution_count": 64,
   "metadata": {},
   "outputs": [
    {
     "data": {
      "image/png": "[encoded data removed]",
      "text/plain": [
       "<Figure size 640x480 with 1 Axes>"
      ]
     },
     "metadata": {},
     "output_type": "display_data"
    }
   ],
   "source": [
    "# Побудова стовпчикової діаграми народжуваності по регіонах у 2019 році\n",
    "df['2019'].plot(kind='bar')\n",
    "plt.title('Народжуваність по регіонах у 2019 році')\n",
    "plt.xlabel('Регіон')\n",
    "plt.ylabel('Народжуваність')\n",
    "plt.show()"
   ]
  }
 ],
 "metadata": {
  "kernelspec": {
   "display_name": "Python 3",
   "language": "python",
   "name": "python3"
  },
  "language_info": {
   "codemirror_mode": {
    "name": "ipython",
    "version": 3
   },
   "file_extension": ".py",
   "mimetype": "text/x-python",
   "name": "python",
   "nbconvert_exporter": "python",
   "pygments_lexer": "ipython3",
   "version": "3.12.3"
  }
 },
 "nbformat": 4,
 "nbformat_minor": 2
}
